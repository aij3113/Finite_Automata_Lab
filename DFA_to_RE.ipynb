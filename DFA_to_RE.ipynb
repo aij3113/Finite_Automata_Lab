{
  "nbformat": 4,
  "nbformat_minor": 0,
  "metadata": {
    "colab": {
      "name": "DFA_to_RE.ipynb",
      "provenance": [],
      "collapsed_sections": [],
      "authorship_tag": "ABX9TyNsG1tVulCRHmo0PX6j+o22",
      "include_colab_link": true
    },
    "kernelspec": {
      "name": "python3",
      "display_name": "Python 3"
    },
    "language_info": {
      "name": "python"
    }
  },
  "cells": [
    {
      "cell_type": "markdown",
      "metadata": {
        "id": "view-in-github",
        "colab_type": "text"
      },
      "source": [
        "<a href=\"https://colab.research.google.com/github/aij3113/Finite_Automata_Lab/blob/main/DFA_to_RE.ipynb\" target=\"_parent\"><img src=\"https://colab.research.google.com/assets/colab-badge.svg\" alt=\"Open In Colab\"/></a>"
      ]
    },
    {
      "cell_type": "code",
      "metadata": {
        "id": "CM1C-puHWoTE"
      },
      "source": [
        "!pip install pyformlang"
      ],
      "execution_count": null,
      "outputs": []
    },
    {
      "cell_type": "code",
      "metadata": {
        "colab": {
          "base_uri": "https://localhost:8080/"
        },
        "id": "yR2CySWCXWZB",
        "outputId": "b20e449b-c720-40ef-959f-1e4ea3e906d9"
      },
      "source": [
        "# DFA implementation.\n",
        "\n",
        "from pyformlang.finite_automaton import DeterministicFiniteAutomaton\n",
        "from pyformlang.regular_expression import regex\n",
        "\n",
        "from pyformlang.finite_automaton import State \n",
        "from pyformlang.finite_automaton import Symbol\n",
        "\n",
        "dfa= DeterministicFiniteAutomaton()\n",
        "\n",
        "#states\n",
        "stateA = State('A')\n",
        "stateB = State('B')\n",
        "stateC = State('C')\n",
        "\n",
        "#symbols\n",
        "sym0 = Symbol(0)\n",
        "sym1 = Symbol(1)\n",
        "\n",
        "#start & final state\n",
        "dfa.add_start_state(stateA)\n",
        "dfa.add_final_state(stateC)\n",
        "\n",
        "#transitions\n",
        "dfa.add_transition(stateA, sym0, stateB)\n",
        "dfa.add_transition(stateA, sym1, stateC)\n",
        "\n",
        "dfa.add_transition(stateB, sym0, stateA)\n",
        "dfa.add_transition(stateB, sym1, stateC)\n",
        "\n",
        "dfa.add_transition(stateC, sym0, stateB)\n",
        "dfa.add_transition(stateC, sym1, stateA)\n",
        "\n",
        "#DFA to RE and print\n",
        "RE = dfa.to_regex()\n",
        "print('The Regular Expression is: ')\n",
        "print(RE);\n",
        "\n"
      ],
      "execution_count": 20,
      "outputs": [
        {
          "output_type": "stream",
          "text": [
            "The Regular Expression is: \n",
            "((((0.0)|(((0.1)|1).(((0.1))*.(1|(0.0))))))*.(((0.1)|1).((0.1))*))\n"
          ],
          "name": "stdout"
        }
      ]
    }
  ]
}