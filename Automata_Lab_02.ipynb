{
  "nbformat": 4,
  "nbformat_minor": 0,
  "metadata": {
    "colab": {
      "name": "Automata Lab - 02.ipynb",
      "provenance": [],
      "collapsed_sections": [],
      "authorship_tag": "ABX9TyOAIf+k3ZdXfbEFonKDpdBs",
      "include_colab_link": true
    },
    "kernelspec": {
      "name": "python3",
      "display_name": "Python 3"
    }
  },
  "cells": [
    {
      "cell_type": "markdown",
      "metadata": {
        "id": "view-in-github",
        "colab_type": "text"
      },
      "source": [
        "<a href=\"https://colab.research.google.com/github/aij3113/Finite_Automata_Lab/blob/main/Automata_Lab_02.ipynb\" target=\"_parent\"><img src=\"https://colab.research.google.com/assets/colab-badge.svg\" alt=\"Open In Colab\"/></a>"
      ]
    },
    {
      "cell_type": "code",
      "metadata": {
        "colab": {
          "base_uri": "https://localhost:8080/"
        },
        "id": "63HvLhbgBwVG",
        "outputId": "9f893a54-2d88-4344-f3c7-ae0ae495639f"
      },
      "source": [
        "# Numpy : N-Dimensional Array in Python.\n",
        "# if we want to use module/packages/library, we have to import it.\n",
        "\n",
        "import numpy as np  # we rename numpy(Library=> Class) as np: Alias\n",
        "\n",
        "print(np.__version__)\n",
        "\n",
        "a = np.array([1,2,3,5])\n",
        "print(a)\n",
        "print(type(a))\n",
        "print('Shape of array-a:',a.shape)\n",
        "print('Dimention of array-a: ',a.ndim)\n"
      ],
      "execution_count": null,
      "outputs": [
        {
          "output_type": "stream",
          "text": [
            "1.19.5\n",
            "[1 2 3 5]\n",
            "<class 'numpy.ndarray'>\n",
            "Shape of array-a: (4,)\n",
            "Dimention of array-a:  1\n"
          ],
          "name": "stdout"
        }
      ]
    },
    {
      "cell_type": "code",
      "metadata": {
        "colab": {
          "base_uri": "https://localhost:8080/"
        },
        "id": "R4lG9Ez8D3Kp",
        "outputId": "ee4f3848-da4d-497e-f2fe-c646b63c78b6"
      },
      "source": [
        "b = np.array([ [1,2,3],[2,3,4] ])\n",
        "\n",
        "print(b)\n",
        "print(type(b))\n",
        "print('Shape of array-b:',b.shape)\n",
        "print('Dimension of array-b:',b.ndim)\n",
        "\n",
        "row , col = b.shape\n",
        "dimension = b.shape\n",
        "\n",
        "print('Row: ',row, '\\nCol: ',col)\n",
        "print('Row: ',dimension[0], '\\nCol: ',dimension[1])\n"
      ],
      "execution_count": null,
      "outputs": [
        {
          "output_type": "stream",
          "text": [
            "[[1 2 3]\n",
            " [2 3 4]]\n",
            "<class 'numpy.ndarray'>\n",
            "Shape of array-b: (2, 3)\n",
            "Dimension of array-b: 2\n",
            "Row:  2 \n",
            "Col:  3\n",
            "Row:  2 \n",
            "Col:  3\n"
          ],
          "name": "stdout"
        }
      ]
    },
    {
      "cell_type": "code",
      "metadata": {
        "colab": {
          "base_uri": "https://localhost:8080/"
        },
        "id": "t9Aa7AAxGrvS",
        "outputId": "5762973f-a6b1-41b9-bf64-c52f73e1e7c9"
      },
      "source": [
        "# Numpy slicing....\n",
        "b = np.array([ [1,2,3],[2,3,4],[4,5,6] ])\n",
        "print(b[0][0])\n",
        "\n",
        "print(b[1][2])\n",
        "print(b[1,2])\n",
        "\n",
        "print(b[1, 1:3])  # Slicing.\n"
      ],
      "execution_count": null,
      "outputs": [
        {
          "output_type": "stream",
          "text": [
            "1\n",
            "4\n",
            "4\n",
            "[3 4]\n"
          ],
          "name": "stdout"
        }
      ]
    },
    {
      "cell_type": "code",
      "metadata": {
        "colab": {
          "base_uri": "https://localhost:8080/"
        },
        "id": "YGjydhXlIi7K",
        "outputId": "461f7c73-66b0-4430-e02e-178ac19fd835"
      },
      "source": [
        "allRounder = np.array(['Sakib','Max','Nabi','Ashwin'])\n",
        "print(allRounder[-1]) # Negative indexing\n",
        "print(allRounder[-2])\n",
        "print(allRounder.dtype)"
      ],
      "execution_count": null,
      "outputs": [
        {
          "output_type": "stream",
          "text": [
            "Ashwin\n",
            "Nabi\n",
            "<U6\n"
          ],
          "name": "stdout"
        }
      ]
    },
    {
      "cell_type": "code",
      "metadata": {
        "colab": {
          "base_uri": "https://localhost:8080/"
        },
        "id": "rZbfkPWbJQKS",
        "outputId": "40f1a8ba-b473-4566-b996-245524197b29"
      },
      "source": [
        "b = np.array([ [1,2,3],[2,3,4],[3,4,5] ])\n",
        "allRounder = np.array(['Sakib','Max','Nabi','Ashwin'])\n",
        "\n",
        "for player in allRounder:   # for-each loop\n",
        "    print(player)\n",
        "\n",
        "for x in b:\n",
        "    for y in x:\n",
        "        print(y,end=' ')\n",
        "\n",
        "print('\\n')\n",
        "for i in range (0,b.shape[0]):\n",
        "    for j in range(0,b.shape[1]):\n",
        "        print(b[i,j] , end=' ')"
      ],
      "execution_count": null,
      "outputs": [
        {
          "output_type": "stream",
          "text": [
            "Sakib\n",
            "Max\n",
            "Nabi\n",
            "Ashwin\n",
            "1 2 3 2 3 4 3 4 5 \n",
            "\n",
            "1 2 3 2 3 4 3 4 5 "
          ],
          "name": "stdout"
        }
      ]
    },
    {
      "cell_type": "code",
      "metadata": {
        "colab": {
          "base_uri": "https://localhost:8080/"
        },
        "id": "SMPqfFmeKqtO",
        "outputId": "3635102c-f824-4411-b8e0-6496e2a1ae24"
      },
      "source": [
        "# Zeros and Ones in numpy.\n",
        "\n",
        "z = np.zeros( (5,5) )\n",
        "print(z)\n",
        "\n",
        "print('\\n')\n",
        "o = np.ones( (4,3) )\n",
        "print(o)\n",
        "\n",
        "print('\\n',z.dtype)"
      ],
      "execution_count": null,
      "outputs": [
        {
          "output_type": "stream",
          "text": [
            "[[0. 0. 0. 0. 0.]\n",
            " [0. 0. 0. 0. 0.]\n",
            " [0. 0. 0. 0. 0.]\n",
            " [0. 0. 0. 0. 0.]\n",
            " [0. 0. 0. 0. 0.]]\n",
            "\n",
            "\n",
            "[[1. 1. 1.]\n",
            " [1. 1. 1.]\n",
            " [1. 1. 1.]\n",
            " [1. 1. 1.]]\n",
            "\n",
            " float64\n"
          ],
          "name": "stdout"
        }
      ]
    },
    {
      "cell_type": "code",
      "metadata": {
        "colab": {
          "base_uri": "https://localhost:8080/"
        },
        "id": "gFS1f16NLwqy",
        "outputId": "21cc243b-8a3c-4034-e82c-f69c92b91827"
      },
      "source": [
        "# Matrix manipulations....\n",
        "\n",
        "mat1 = np.array([ [1,2,3],[4,5,6],[7,8,9] ])\n",
        "mat2 = np.array([ [5,4],[3,9],[2,8] ])\n",
        "\n",
        "# Matrix multiplation....\n",
        "\n",
        "if mat1.shape[1]==mat2.shape[0]:\n",
        "    mat3 = np.dot(mat1,mat2)  # Dot Product Means Matrix Multiplication\n",
        "\n",
        "print(mat3)\n",
        "print(mat3.shape)"
      ],
      "execution_count": null,
      "outputs": [
        {
          "output_type": "stream",
          "text": [
            "[[ 17  46]\n",
            " [ 47 109]\n",
            " [ 77 172]]\n",
            "(3, 2)\n"
          ],
          "name": "stdout"
        }
      ]
    },
    {
      "cell_type": "code",
      "metadata": {
        "colab": {
          "base_uri": "https://localhost:8080/"
        },
        "id": "wXDSs9gQNQ3E",
        "outputId": "dd248157-f3bd-4cb0-ad14-7e6d26a07c5a"
      },
      "source": [
        "mat1 = mat1/255.0\n",
        "print(mat1)"
      ],
      "execution_count": null,
      "outputs": [
        {
          "output_type": "stream",
          "text": [
            "[[1.53787005e-05 3.07574010e-05 4.61361015e-05]\n",
            " [6.15148020e-05 7.68935025e-05 9.22722030e-05]\n",
            " [1.07650903e-04 1.23029604e-04 1.38408304e-04]]\n"
          ],
          "name": "stdout"
        }
      ]
    },
    {
      "cell_type": "markdown",
      "metadata": {
        "id": "FIvxCNB5OLLk"
      },
      "source": [
        "Some Basic Drawing in Python"
      ]
    },
    {
      "cell_type": "code",
      "metadata": {
        "colab": {
          "base_uri": "https://localhost:8080/",
          "height": 312
        },
        "id": "vuAPTVnROhIu",
        "outputId": "38b9a9c6-1916-4b0c-8a6f-8a25cee45bd6"
      },
      "source": [
        "# mat plot library drawing \n",
        "\n",
        "a = np.arange(1,11,.1)\n",
        "\n",
        "print(a.shape)\n",
        "\n",
        "b = np.array(np.power(a,2))\n",
        "\n",
        "# ploting\n",
        "import matplotlib.pyplot as plt\n",
        "\n",
        "plt.plot(a,b, color='red')\n",
        "plt.xlabel('A Values')\n",
        "plt.ylabel('Polynomial Values')\n",
        "plt.title('Graph.')\n",
        "plt.draw()"
      ],
      "execution_count": null,
      "outputs": [
        {
          "output_type": "stream",
          "text": [
            "(100,)\n"
          ],
          "name": "stdout"
        },
        {
          "output_type": "display_data",
          "data": {
            "image/png": "[encoded data removed]",
            "text/plain": [
              "<Figure size 432x288 with 1 Axes>"
            ]
          },
          "metadata": {
            "tags": [],
            "needs_background": "light"
          }
        }
      ]
    },
    {
      "cell_type": "code",
      "metadata": {
        "colab": {
          "base_uri": "https://localhost:8080/",
          "height": 312
        },
        "id": "NHmsE8xEQjyN",
        "outputId": "1c533f48-aa32-4fd5-c0ab-877cad6ca009"
      },
      "source": [
        "# Scatter Plot\n",
        "\n",
        "a = np.arange(1,11,.4)\n",
        "\n",
        "print(a.shape)\n",
        "\n",
        "b = np.array(np.power(a,2))\n",
        "\n",
        "# ploting\n",
        "import matplotlib.pyplot as plt\n",
        "\n",
        "plt.scatter(a,b, color='red')\n",
        "plt.xlabel('A Values')\n",
        "plt.ylabel('Polynomial Values')\n",
        "plt.title('Graph.')\n",
        "plt.draw()"
      ],
      "execution_count": null,
      "outputs": [
        {
          "output_type": "stream",
          "text": [
            "(25,)\n"
          ],
          "name": "stdout"
        },
        {
          "output_type": "display_data",
          "data": {
            "image/png": "[encoded data removed]",
            "text/plain": [
              "<Figure size 432x288 with 1 Axes>"
            ]
          },
          "metadata": {
            "tags": [],
            "needs_background": "light"
          }
        }
      ]
    },
    {
      "cell_type": "code",
      "metadata": {
        "colab": {
          "base_uri": "https://localhost:8080/",
          "height": 265
        },
        "id": "5CoPWH4_RciM",
        "outputId": "8d52fc28-915a-458b-aa97-86b6065324a1"
      },
      "source": [
        "allRounder = np.array(['Sakib','Max','Nabi','Ashwin'])\n",
        "points = np.array([650,600,525,430])\n",
        "\n",
        "plt.bar(allRounder,points, color = (0,0,1))\n",
        "plt.draw()\n",
        "\n"
      ],
      "execution_count": null,
      "outputs": [
        {
          "output_type": "display_data",
          "data": {
            "image/png": "[encoded data removed]",
            "text/plain": [
              "<Figure size 432x288 with 1 Axes>"
            ]
          },
          "metadata": {
            "tags": [],
            "needs_background": "light"
          }
        }
      ]
    }
  ]
}