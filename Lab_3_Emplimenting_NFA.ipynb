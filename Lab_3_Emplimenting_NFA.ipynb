{
  "nbformat": 4,
  "nbformat_minor": 0,
  "metadata": {
    "colab": {
      "name": "Lab_3_Emplimenting_NFA.ipynb",
      "provenance": [],
      "collapsed_sections": [],
      "authorship_tag": "ABX9TyOzpz2RTYHN86I8jv46tHAV",
      "include_colab_link": true
    },
    "kernelspec": {
      "display_name": "Python 3",
      "name": "python3"
    }
  },
  "cells": [
    {
      "cell_type": "markdown",
      "metadata": {
        "id": "view-in-github",
        "colab_type": "text"
      },
      "source": [
        "<a href=\"https://colab.research.google.com/github/aij3113/Finite_Automata_Lab/blob/main/Lab_3_Emplimenting_NFA.ipynb\" target=\"_parent\"><img src=\"https://colab.research.google.com/assets/colab-badge.svg\" alt=\"Open In Colab\"/></a>"
      ]
    },
    {
      "cell_type": "code",
      "metadata": {
        "colab": {
          "base_uri": "https://localhost:8080/"
        },
        "id": "KPpFz363QZnj",
        "outputId": "5093b746-a347-4333-f73e-357964ffa591"
      },
      "source": [
        "! pip install pyformlang"
      ],
      "execution_count": 1,
      "outputs": [
        {
          "output_type": "stream",
          "text": [
            "Collecting pyformlang\n",
            "\u001b[?25l  Downloading https://files.pythonhosted.org/packages/b2/15/3a49d67b9efbd26aa0b06a8a9c7fed859f3f36b19a59aa075615b23c3703/pyformlang-0.1.23-py3-none-any.whl (109kB)\n",
            "\r\u001b[K     |███                             | 10kB 10.1MB/s eta 0:00:01\r\u001b[K     |██████                          | 20kB 15.1MB/s eta 0:00:01\r\u001b[K     |█████████                       | 30kB 9.2MB/s eta 0:00:01\r\u001b[K     |████████████                    | 40kB 7.7MB/s eta 0:00:01\r\u001b[K     |███████████████                 | 51kB 4.5MB/s eta 0:00:01\r\u001b[K     |██████████████████              | 61kB 4.8MB/s eta 0:00:01\r\u001b[K     |█████████████████████           | 71kB 5.0MB/s eta 0:00:01\r\u001b[K     |████████████████████████        | 81kB 5.2MB/s eta 0:00:01\r\u001b[K     |███████████████████████████     | 92kB 5.4MB/s eta 0:00:01\r\u001b[K     |██████████████████████████████  | 102kB 4.4MB/s eta 0:00:01\r\u001b[K     |████████████████████████████████| 112kB 4.4MB/s \n",
            "\u001b[?25hRequirement already satisfied: networkx in /usr/local/lib/python3.7/dist-packages (from pyformlang) (2.5)\n",
            "Requirement already satisfied: numpy in /usr/local/lib/python3.7/dist-packages (from pyformlang) (1.19.5)\n",
            "Requirement already satisfied: pydot in /usr/local/lib/python3.7/dist-packages (from pyformlang) (1.3.0)\n",
            "Requirement already satisfied: decorator>=4.3.0 in /usr/local/lib/python3.7/dist-packages (from networkx->pyformlang) (4.4.2)\n",
            "Requirement already satisfied: pyparsing>=2.1.4 in /usr/local/lib/python3.7/dist-packages (from pydot->pyformlang) (2.4.7)\n",
            "Installing collected packages: pyformlang\n",
            "Successfully installed pyformlang-0.1.23\n"
          ],
          "name": "stdout"
        }
      ]
    },
    {
      "cell_type": "code",
      "metadata": {
        "colab": {
          "base_uri": "https://localhost:8080/"
        },
        "id": "41bYCL6-VTGT",
        "outputId": "5c7bc598-1ae3-48ef-dddf-d5d52b47eb7f"
      },
      "source": [
        "from pyformlang.finite_automaton import NondeterministicFiniteAutomaton, Symbol, State\n",
        " \n",
        "# Declare a NFA Object\n",
        " \n",
        "nfa = NondeterministicFiniteAutomaton()\n",
        " \n",
        "# step-I: Declare States\n",
        " \n",
        "state0 = State(0)\n",
        "state1 = State(1)\n",
        "state2 = State(2)\n",
        "state3 = State(3)\n",
        "state4 = State(4)\n",
        " \n",
        "# Step-II: Declare Symbols.\n",
        " \n",
        "sym_a = Symbol('a');\n",
        "sym_b = Symbol('b');\n",
        "sym_c = Symbol('c');\n",
        "sym_d = Symbol('d');\n",
        " \n",
        "# Step-III: Add Start State.\n",
        "nfa.add_start_state(state0)\n",
        " \n",
        "# Step-IV: Add Final State.\n",
        "nfa.add_final_state(state3)\n",
        "nfa.add_final_state(state4)\n",
        " \n",
        "#Step-V: Add All Transition.\n",
        "nfa.add_transition(state0,sym_a,state1)\n",
        "nfa.add_transition(state1,sym_b,state1)\n",
        " \n",
        "nfa.add_transition(state1,sym_c,state2)\n",
        "nfa.add_transition(state1,sym_b,state4)\n",
        " \n",
        "nfa.add_transition(state1,sym_c,state4)\n",
        "nfa.add_transition(state1,sym_d,state3)\n",
        " \n",
        " \n",
        "# Check Determisistic/Non.\n",
        "flag = nfa.is_deterministic()\n",
        " \n",
        "if flag==True:\n",
        "    print('It is Deterministic.')\n",
        "else:\n",
        "    print('It is Nondeterministic.')\n",
        " \n",
        " \n",
        "import numpy as np\n",
        "string = np.array(['abd','abbc'])\n",
        " \n",
        "for s in string:\n",
        "    if nfa.accepts(s):\n",
        "        print(s,' is Accepted.')\n",
        "    else:\n",
        "        print(s,' is not Accepted.')"
      ],
      "execution_count": null,
      "outputs": [
        {
          "output_type": "stream",
          "text": [
            "It is Nondeterministic.\n",
            "abd  is Accepted.\n",
            "abbc  is Accepted.\n"
          ],
          "name": "stdout"
        }
      ]
    },
    {
      "cell_type": "code",
      "metadata": {
        "colab": {
          "base_uri": "https://localhost:8080/"
        },
        "id": "J8LlaX0Pd5gN",
        "outputId": "9f6e5003-44f0-45dc-b62d-978b39a66a53"
      },
      "source": [
        "from pyformlang.finite_automaton import NondeterministicFiniteAutomaton, Symbol, State\n",
        " \n",
        "# Declare a NFA Object\n",
        " \n",
        "nfa = NondeterministicFiniteAutomaton()\n",
        " \n",
        "# step-I: Declare States\n",
        "st0=State(0)\n",
        "st1=State(1)\n",
        "st2=State(2)\n",
        "st3=State(3)\n",
        "st4=State(4)\n",
        "st5=State(5)\n",
        "st6=State(6)\n",
        " \n",
        " \n",
        "# Step-II: Declare Symbols.\n",
        "sm_j = Symbol('j');\n",
        "sm_o = Symbol('o');\n",
        "sm_y = Symbol('y');\n",
        " \n",
        "# Step-III: Add Start State.\n",
        "nfa.add_start_state(st0)\n",
        " \n",
        "# Step-IV: Add Final State.\n",
        "nfa.add_final_state(st5)\n",
        " \n",
        "#Step-V: Add All Transition.\n",
        "nfa.add_transition(st0,sm_o,st1)\n",
        "nfa.add_transition(st0,sm_j,st2)\n",
        "nfa.add_transition(st0,sm_j,st3)\n",
        " \n",
        "nfa.add_transition(st1,sm_o,st1)\n",
        " \n",
        "nfa.add_transition(st2,sm_j,st2)\n",
        "nfa.add_transition(st2,sm_o,st4)\n",
        "nfa.add_transition(st2,sm_o,st3)\n",
        " \n",
        "nfa.add_transition(st3,sm_y,st5)\n",
        "nfa.add_transition(st3,sm_j,st6)\n",
        " \n",
        "nfa.add_transition(st4,sm_o,st4)\n",
        "nfa.add_transition(st4,sm_y,st5)\n",
        " \n",
        "nfa.add_transition(st5,sm_y,st5)\n",
        " \n",
        "while (1):\n",
        "    s = input('Enter String: ')\n",
        "    if s=='###':\n",
        "        print('Exited...')\n",
        "        break\n",
        "    else:\n",
        "        if nfa.accepts(s):\n",
        "            print(s,' is Accepted.')\n",
        "        else:\n",
        "            print(s,' is not Accepted.')"
      ],
      "execution_count": 2,
      "outputs": [
        {
          "output_type": "stream",
          "text": [
            "Enter String: ###\n",
            "Exited...\n"
          ],
          "name": "stdout"
        }
      ]
    }
  ]
}