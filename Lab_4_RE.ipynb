{
  "nbformat": 4,
  "nbformat_minor": 0,
  "metadata": {
    "colab": {
      "name": "Lab_4_RE.ipynb",
      "provenance": [],
      "authorship_tag": "ABX9TyP8f7tgmMlBfkFt51KbwUoX",
      "include_colab_link": true
    },
    "kernelspec": {
      "name": "python3",
      "display_name": "Python 3"
    },
    "language_info": {
      "name": "python"
    }
  },
  "cells": [
    {
      "cell_type": "markdown",
      "metadata": {
        "id": "view-in-github",
        "colab_type": "text"
      },
      "source": [
        "<a href=\"https://colab.research.google.com/github/aij3113/Finite_Automata_Lab/blob/main/Lab_4_RE.ipynb\" target=\"_parent\"><img src=\"https://colab.research.google.com/assets/colab-badge.svg\" alt=\"Open In Colab\"/></a>"
      ]
    },
    {
      "cell_type": "code",
      "metadata": {
        "id": "BFzxXxoa2BDv"
      },
      "source": [
        "[ ] # Python re package"
      ],
      "execution_count": null,
      "outputs": []
    },
    {
      "cell_type": "code",
      "metadata": {
        "id": "_Xc4jyGh2ba9"
      },
      "source": [
        "'''\n",
        "\n",
        "\\d = All digits [0-9]\n",
        "\n",
        "[A-Z] = All upper-case letters.\n",
        "\n",
        "\\d{n} = [0-9] repetas n times.\n",
        "\n",
        "\\D non-digits\n",
        "\n",
        "\\s = White space character\n",
        "\n",
        "+ = 1/More\n",
        "\n",
        "* = 0/More\n",
        "\n",
        "? = 0/1\n",
        "\n",
        "[] = Matches characters in Bracket\n",
        "\n",
        "| = Either Or\n",
        "\n",
        "( ) = To make group Group\n",
        "\n",
        "'''\n"
      ],
      "execution_count": null,
      "outputs": []
    },
    {
      "cell_type": "code",
      "metadata": {
        "colab": {
          "base_uri": "https://localhost:8080/"
        },
        "id": "MKUCIkCJ4O3M",
        "outputId": "3b172525-3b3f-456a-f89d-97240eafe85f"
      },
      "source": [
        "# The set of all strings in which each of them has an 'a' followed by\n",
        "# antyhing and ending with 'b'\n",
        "\n",
        "import re   # Regular Expression library\n",
        "import numpy as np\n",
        "\n",
        "\n",
        "def pattern_matching(text):\n",
        "    pattern = '.*a.*b$'\n",
        "\n",
        "    if re.search(pattern, text):\n",
        "        return 1\n",
        "    else:\n",
        "        return 0\n",
        "\n",
        "\n",
        "\n",
        "\n",
        "data = np.array(['aabad','fgdsaf','afgdsb','ba','ab','zxb','wf44@3ad5b'])\n",
        "\n",
        "for text in data:\n",
        "    flag = pattern_matching(text)\n",
        "    if flag == 1:\n",
        "        print(text,' is matched.')\n",
        "    else:\n",
        "        print(text,' is not matched.')\n",
        "\n",
        "\n"
      ],
      "execution_count": 1,
      "outputs": [
        {
          "output_type": "stream",
          "text": [
            "aabad  is not matched.\n",
            "fgdsaf  is not matched.\n",
            "afgdsb  is matched.\n",
            "ba  is not matched.\n",
            "ab  is matched.\n",
            "zxb  is not matched.\n",
            "wf44@3ad5b  is matched.\n"
          ],
          "name": "stdout"
        }
      ]
    },
    {
      "cell_type": "code",
      "metadata": {
        "colab": {
          "base_uri": "https://localhost:8080/"
        },
        "id": "6u-xox7P-c2n",
        "outputId": "3d5153cf-c2ff-4c88-bafd-64a53f2b4e85"
      },
      "source": [
        "# Matches/Accepts all sttrings of Alpha-Numeric values.\n",
        "# In this case : We only consider : a-z, A-Z, 0-9.\n",
        "\n",
        "import re\n",
        "\n",
        "def check_alpha_num(x):\n",
        "    compiled_pattern = re.compile('^[a-zA-Z0-9]+$')\n",
        "    # r is optional, it is used to define raw string input\n",
        "\n",
        "    result = compiled_pattern.search(x)\n",
        "    print(result)\n",
        "\n",
        "    return bool(result)  #returns True/False \n",
        "\n",
        "\n",
        "\n",
        "# Break if user input '#'\n",
        "\n",
        "while True:\n",
        "    x = input('Enter a pattern: ')\n",
        "\n",
        "    if x=='#':\n",
        "        break\n",
        "    \n",
        "    print(check_alpha_num(x))\n",
        "\n"
      ],
      "execution_count": 2,
      "outputs": [
        {
          "output_type": "stream",
          "text": [
            "Enter a pattern: #\n"
          ],
          "name": "stdout"
        }
      ]
    },
    {
      "cell_type": "code",
      "metadata": {
        "colab": {
          "base_uri": "https://localhost:8080/"
        },
        "id": "iNeVkG_PCtgd",
        "outputId": "0ede9b3b-ab56-434b-9685-7f1b7d266e8c"
      },
      "source": [
        "# A regular expression program to find all Bangladeshi\n",
        "# Mobile numbers from Social/Web files: Textual Data Set.\n",
        "import re\n",
        "\n",
        "text = 'Hello there, the phone number of Joy is +8801710158323. he lives in 55642399. His Mothers phone number is +8801782537153. His fathers phon number is +8801716850115. It is not a valid phone number +8801004554121.'\n",
        "\n",
        "phone_pattern = '(\\+8801)(3|5|6|7|8|9)\\d{8}'\n",
        "\n",
        "\n",
        "\n",
        "def find_all_bd_numbers(word):\n",
        "    compiled = re.compile(phone_pattern)\n",
        "    flag = compiled.match(word)\n",
        "    if flag:\n",
        "        print('Phone Number: ',end='')\n",
        "        for i in range(14):\n",
        "            print(word[i],end='')\n",
        "        print('\\n')\n",
        "\n",
        "\n",
        "split_text_file = re.split(r'\\s', text)\n",
        "# print(split_text_file)\n",
        "\n",
        "\n",
        "\n",
        "for word in split_text_file:\n",
        "    find_all_bd_numbers(word)\n",
        "    \n",
        "\n"
      ],
      "execution_count": 22,
      "outputs": [
        {
          "output_type": "stream",
          "text": [
            "Phone Number: +8801710158323\n",
            "\n",
            "Phone Number: +8801782537153\n",
            "\n",
            "Phone Number: +8801716850115\n",
            "\n"
          ],
          "name": "stdout"
        }
      ]
    }
  ]
}