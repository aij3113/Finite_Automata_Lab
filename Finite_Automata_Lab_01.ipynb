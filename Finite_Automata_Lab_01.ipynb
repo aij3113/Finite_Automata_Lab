{
  "nbformat": 4,
  "nbformat_minor": 0,
  "metadata": {
    "colab": {
      "name": "Finite Automata Lab-01.ipynb",
      "provenance": [],
      "collapsed_sections": [],
      "authorship_tag": "ABX9TyPgLL8UZdZYptVrfReftOcx",
      "include_colab_link": true
    },
    "kernelspec": {
      "name": "python3",
      "display_name": "Python 3"
    }
  },
  "cells": [
    {
      "cell_type": "markdown",
      "metadata": {
        "id": "view-in-github",
        "colab_type": "text"
      },
      "source": [
        "<a href=\"https://colab.research.google.com/github/aij3113/Finite_Automata_Lab/blob/main/Finite_Automata_Lab_01.ipynb\" target=\"_parent\"><img src=\"https://colab.research.google.com/assets/colab-badge.svg\" alt=\"Open In Colab\"/></a>"
      ]
    },
    {
      "cell_type": "markdown",
      "metadata": {
        "id": "gaVIlAfZETo9"
      },
      "source": [
        "**Python Basics**"
      ]
    },
    {
      "cell_type": "code",
      "metadata": {
        "colab": {
          "base_uri": "https://localhost:8080/"
        },
        "id": "8CnmVcjS-gfo",
        "outputId": "25df2553-4bdb-49fd-8d09-b20e8e43987a"
      },
      "source": [
        "  print('Welcome to Automata Lab with Python. \\n')\n",
        "\n",
        "  age = 25 # Number data type: int\n",
        "  salary = 35000.256 # Numbe data type: float\n",
        "  name = 'Sakib' # String\n",
        "\n",
        "  #display the type of data\n",
        "\n",
        "  print(type(age), type(salary), type(name))\n",
        "  \n",
        "  print('\\n\\n')\n",
        "\n",
        "  print('Mr ',name,' is ',age,' years old.') \n",
        "\n",
        "\n"
      ],
      "execution_count": null,
      "outputs": [
        {
          "output_type": "stream",
          "text": [
            "Welcome to Automata Lab with Python. \n",
            "\n",
            "<class 'int'> <class 'float'> <class 'str'>\n",
            "\n",
            "\n",
            "\n",
            "Mr  Sakib  is  25  years old.\n"
          ],
          "name": "stdout"
        }
      ]
    },
    {
      "cell_type": "code",
      "metadata": {
        "colab": {
          "base_uri": "https://localhost:8080/"
        },
        "id": "Nby2Mg1bC5iW",
        "outputId": "f66fa99b-faaa-49dd-a55b-84aa3cfa06f5"
      },
      "source": [
        "  # how to get user input\n",
        "  '''  multiline comment\n",
        "  n = input('Enter a number: ')\n",
        "  print(type(n))\n",
        "\n",
        "  \n",
        "  n=int(n) # type casting \n",
        "  print(type(n))\n",
        "  '''\n",
        "\n",
        "\n",
        "  fname = input('Enter First Name: ')\n",
        "  lname = input('Enter Last Name: ')\n",
        "  fname = fname + ' ' + lname  #Concatenation (+)\n",
        "\n",
        "  print('You are Mr. ', fname)"
      ],
      "execution_count": null,
      "outputs": [
        {
          "output_type": "stream",
          "text": [
            "Enter First Name: A I\n",
            "Enter Last Name: Joy\n",
            "You are Mr.  A I Joy\n"
          ],
          "name": "stdout"
        }
      ]
    },
    {
      "cell_type": "code",
      "metadata": {
        "colab": {
          "base_uri": "https://localhost:8080/"
        },
        "id": "mmEUCp4QG2fC",
        "outputId": "c93a47b6-4f02-4444-8256-dd909ade3ba6"
      },
      "source": [
        "\n",
        "'''\n",
        "# Basic Data type\n",
        "Number: int, float, complex\n",
        "string\n",
        "list\n",
        "'''\n",
        "a,b,c = 132,'Sakib',20j\n",
        "print(type(a),type(b),type(c))\n",
        "\n",
        "list1 = [10,20,30,40j, 'Salman'] # list in python: is like Array\n",
        "print(list1)\n",
        "print(type(list1))"
      ],
      "execution_count": null,
      "outputs": [
        {
          "output_type": "stream",
          "text": [
            "<class 'int'> <class 'str'> <class 'complex'>\n",
            "[10, 20, 30, 40j, 'Salman']\n",
            "<class 'list'>\n"
          ],
          "name": "stdout"
        }
      ]
    },
    {
      "cell_type": "markdown",
      "metadata": {
        "id": "XhKYN7hIIekK"
      },
      "source": [
        "***--Indentation in Python--***"
      ]
    },
    {
      "cell_type": "code",
      "metadata": {
        "colab": {
          "base_uri": "https://localhost:8080/"
        },
        "id": "1AkZx-m-IqJz",
        "outputId": "3f68a890-a095-4a52-b18d-55410e80670d"
      },
      "source": [
        "# Python identation required in followings\n",
        "\n",
        "'''\n",
        "=> if-else condition \n",
        "=> Looping: for loop and while loop\n",
        "=> Function: def()\n",
        "\n",
        "'''''\n",
        "''''''\n",
        "''''\n",
        "'''\n",
        "\n",
        "'''\n",
        "Identation in c++\n",
        "\n",
        "if(n%2==0){\n",
        "  .......\n",
        "  .......\n",
        "  .......\n",
        "}\n",
        "\n",
        "\n",
        "'''\n",
        "\n",
        "# If else in python.\n",
        "var = int ( input('Enter a number: '))\n",
        "\n",
        "if var%2==0:\n",
        "  print(var,' is even')\n",
        "else:\n",
        "  print(var, 'is odd')\n",
        "\n",
        "\n",
        "\n"
      ],
      "execution_count": null,
      "outputs": [
        {
          "output_type": "stream",
          "text": [
            "Enter a number: 1000\n",
            "1000  is even\n"
          ],
          "name": "stdout"
        }
      ]
    },
    {
      "cell_type": "code",
      "metadata": {
        "colab": {
          "base_uri": "https://localhost:8080/"
        },
        "id": "At5g51GsLny9",
        "outputId": "16b3075c-c9e6-42f6-8ecc-5f545a16a8da"
      },
      "source": [
        "#Nested if-else\n",
        "\n",
        "foodItem = int( input('Enter food Item no: '))\n",
        "\n",
        "if foodItem == 101:\n",
        "  print('Your order is Pizza.')\n",
        "elif foodItem == 102:\n",
        "  print('Your order is Sandwich.')\n",
        "elif foodItem == 102:\n",
        "  print('Your order is Burger.')\n",
        "elif foodItem == 102:\n",
        "  print('Your order is Biriyani.')\n",
        "else:\n",
        "  print('Invalid Input !!.')"
      ],
      "execution_count": null,
      "outputs": [
        {
          "output_type": "stream",
          "text": [
            "Enter food Item no: 102\n",
            "Your order is Sandwich.\n"
          ],
          "name": "stdout"
        }
      ]
    },
    {
      "cell_type": "code",
      "metadata": {
        "colab": {
          "base_uri": "https://localhost:8080/"
        },
        "id": "GXJ7Y8AwMnIM",
        "outputId": "822a9b5c-4f6a-4c6f-92fe-e27cf6451c25"
      },
      "source": [
        "# Multiple Conditions...\n",
        "\n",
        "country = input('Country: ')\n",
        "age = int(input('Enter age: '))\n",
        "\n",
        "if country == 'USA' and age>=25:\n",
        "  print('You are Allowed')\n",
        "elif country =='UK' or age>20:\n",
        "  print('You are allowed')\n",
        "else:\n",
        "  print('You are not Allowed')\n",
        "  "
      ],
      "execution_count": null,
      "outputs": [
        {
          "output_type": "stream",
          "text": [
            "Country: UK\n",
            "Enter age: 1\n",
            "You are allowed\n"
          ],
          "name": "stdout"
        }
      ]
    },
    {
      "cell_type": "markdown",
      "metadata": {
        "id": "1OwKO9SDNuc7"
      },
      "source": [
        "**Loop in Python**"
      ]
    },
    {
      "cell_type": "code",
      "metadata": {
        "colab": {
          "base_uri": "https://localhost:8080/"
        },
        "id": "qHdT69hNN1jD",
        "outputId": "44529cec-e54d-4fd8-b534-4b40286bfdad"
      },
      "source": [
        "# while loop\n",
        "\n",
        "i = 0\n",
        "while i<10:\n",
        "  if i>5:\n",
        "    break\n",
        "  print(i, end=' ')\n",
        "  i+=1\n",
        "\n"
      ],
      "execution_count": null,
      "outputs": [
        {
          "output_type": "stream",
          "text": [
            "0 1 2 3 4 5 "
          ],
          "name": "stdout"
        }
      ]
    },
    {
      "cell_type": "code",
      "metadata": {
        "colab": {
          "base_uri": "https://localhost:8080/"
        },
        "id": "7pw_IKIOPq_M",
        "outputId": "a9dbf033-d47a-4880-abbc-a74392cc306d"
      },
      "source": [
        "# For loop in Python\n",
        "\n",
        "for i in range(0,10,1):\n",
        "  print(i,end=' ')\n",
        "\n",
        "print('\\n\\n')\n",
        "\n",
        "for i in range(10,0,-1):\n",
        "  print(i,end=' ')\n",
        "\n",
        "print('\\n\\n')\n",
        "\n",
        "for i in range(10):\n",
        "  print(i,end=' ')\n",
        "\n",
        "print('\\n\\n')\n",
        "\n",
        "for i in range(2,10):\n",
        "  print(i,end=' ')\n",
        "\n",
        "print('\\n\\n')\n",
        "\n",
        "for i in range(2,10,3):\n",
        "  print(i,end=' ')\n"
      ],
      "execution_count": null,
      "outputs": [
        {
          "output_type": "stream",
          "text": [
            "0 1 2 3 4 5 6 7 8 9 \n",
            "\n",
            "\n",
            "10 9 8 7 6 5 4 3 2 1 \n",
            "\n",
            "\n",
            "0 1 2 3 4 5 6 7 8 9 \n",
            "\n",
            "\n",
            "2 3 4 5 6 7 8 9 \n",
            "\n",
            "\n",
            "2 5 8 "
          ],
          "name": "stdout"
        }
      ]
    },
    {
      "cell_type": "markdown",
      "metadata": {
        "id": "wSJWelqyVUHI"
      },
      "source": [
        "Nested For Loop"
      ]
    },
    {
      "cell_type": "code",
      "metadata": {
        "colab": {
          "base_uri": "https://localhost:8080/"
        },
        "id": "GPPdo-F-VYS4",
        "outputId": "1f7d907c-8e0d-4aa1-faa7-fbeeb73b7d35"
      },
      "source": [
        "import math\n",
        "for i in range(10,101):\n",
        "  flag = 1\n",
        "  for j in range(2, int(math.sqrt(i))+1 ):\n",
        "    if i % j == 0:\n",
        "      flag = 0\n",
        "      break\n",
        "  if flag == 1:\n",
        "    print(i, end = ' ')\n",
        "\n"
      ],
      "execution_count": null,
      "outputs": [
        {
          "output_type": "stream",
          "text": [
            "11 13 17 19 23 29 31 37 41 43 47 53 59 61 67 71 73 79 83 89 97 "
          ],
          "name": "stdout"
        }
      ]
    },
    {
      "cell_type": "markdown",
      "metadata": {
        "id": "ySDvbL6AaCQp"
      },
      "source": [
        "List and Dictonary"
      ]
    },
    {
      "cell_type": "code",
      "metadata": {
        "colab": {
          "base_uri": "https://localhost:8080/"
        },
        "id": "PDljfmyXaGuw",
        "outputId": "0f4abb76-5627-42a2-d82c-5b2dc33a14eb"
      },
      "source": [
        "batsman = ['Sakib','Tamim','Mushfiq']\n",
        "average = [35.63,32.19,33.56]\n",
        "\n",
        "print(batsman)\n",
        "print(average)\n",
        "\n",
        "print('\\n')\n",
        "\n",
        "for i in batsman:   # for-each loop in python\n",
        "  print(i)\n",
        "\n",
        "print('\\n')\n",
        "\n",
        "for i in range(len(average)):\n",
        "  if average[i]>=35:\n",
        "    print(batsman[i], ' has better average.')\n"
      ],
      "execution_count": null,
      "outputs": [
        {
          "output_type": "stream",
          "text": [
            "['Sakib', 'Tamim', 'Mushfiq']\n",
            "[35.63, 32.19, 33.56]\n",
            "\n",
            "\n",
            "Sakib\n",
            "Tamim\n",
            "Mushfiq\n",
            "\n",
            "\n",
            "Sakib  has better average.\n"
          ],
          "name": "stdout"
        }
      ]
    },
    {
      "cell_type": "code",
      "metadata": {
        "colab": {
          "base_uri": "https://localhost:8080/"
        },
        "id": "7Akaiaptc_fl",
        "outputId": "adbb2326-a297-4a41-ae87-877ae80834f1"
      },
      "source": [
        "# Dictionary\n",
        "\n",
        "allRounder = {\n",
        "    'name' : 'Sakib',\n",
        "    'Country' : 'BD',\n",
        "    'Total-Runs' : 7000,\n",
        "    'Total-Wickets' : 350,\n",
        "    'Highest-Runs' : 201 \n",
        "}\n",
        "\n",
        "print(allRounder)\n",
        "print('\\n')\n",
        "\n",
        "print(allRounder['name'], 'has a total of ',allRounder['Total-Runs'],' runs.')\n",
        "print('\\n')\n",
        "\n",
        "list1 = [allRounder,[1,2,3],25j,34.5,'cricket']\n",
        "print(list1)\n",
        "print('\\n')\n",
        "print(type(list1))\n",
        "print(type(list1[0]))\n",
        "print(type(list1[1]))\n",
        "print(type(list1[2]))\n",
        "print(type(list1[3]))\n",
        "print(type(list1[4]))"
      ],
      "execution_count": null,
      "outputs": [
        {
          "output_type": "stream",
          "text": [
            "{'name': 'Sakib', 'Country': 'BD', 'Total-Runs': 7000, 'Total-Wickets': 350, 'Highest-Runs': 201}\n",
            "\n",
            "\n",
            "Sakib has a total of  7000  runs.\n",
            "\n",
            "\n",
            "[{'name': 'Sakib', 'Country': 'BD', 'Total-Runs': 7000, 'Total-Wickets': 350, 'Highest-Runs': 201}, [1, 2, 3], 25j, 34.5, 'cricket']\n",
            "\n",
            "\n",
            "<class 'list'>\n",
            "<class 'dict'>\n",
            "<class 'list'>\n",
            "<class 'complex'>\n",
            "<class 'float'>\n",
            "<class 'str'>\n"
          ],
          "name": "stdout"
        }
      ]
    },
    {
      "cell_type": "markdown",
      "metadata": {
        "id": "ywrBN3a5fqXY"
      },
      "source": [
        "Function in Python..."
      ]
    },
    {
      "cell_type": "code",
      "metadata": {
        "colab": {
          "base_uri": "https://localhost:8080/"
        },
        "id": "WOoGx_gHftCk",
        "outputId": "32fa6454-829b-47e4-b0fb-1042aa2c089b"
      },
      "source": [
        "\n",
        "def create_full_name(fname,lname):\n",
        "  full_name = fname+ ' ' + lname\n",
        "\n",
        "  return full_name\n",
        "\n",
        "fname = 'Tamim'\n",
        "lname = 'Iqbal'\n",
        "\n",
        "full_name = create_full_name(fname,lname)\n",
        "\n",
        "print('Hello Mr. ',full_name)"
      ],
      "execution_count": null,
      "outputs": [
        {
          "output_type": "stream",
          "text": [
            "Hello Mr.  Tamim Iqbal\n"
          ],
          "name": "stdout"
        }
      ]
    },
    {
      "cell_type": "code",
      "metadata": {
        "colab": {
          "base_uri": "https://localhost:8080/"
        },
        "id": "lexIoxX6g3D6",
        "outputId": "b6ac5091-e033-4f22-a22e-4c68d4fbf537"
      },
      "source": [
        "\n",
        "def factorial(n):\n",
        "  if n==0:\n",
        "    return 1\n",
        "\n",
        "  else:\n",
        "    return n*factorial(n-1)\n",
        "\n",
        "\n",
        "while True:\n",
        "  n = int(input('Enter a number to calculat factorial: '))\n",
        "\n",
        "  if n==0:\n",
        "    break\n",
        "  \n",
        "  \n",
        "  fact = factorial(n)\n",
        "  print('Factroial of ',n,' is ',fact)\n",
        "  print(len(str(fact)))"
      ],
      "execution_count": 1,
      "outputs": [
        {
          "output_type": "stream",
          "text": [
            "Enter a number to calculat factorial: 0\n"
          ],
          "name": "stdout"
        }
      ]
    }
  ]
}