{
  "nbformat": 4,
  "nbformat_minor": 0,
  "metadata": {
    "colab": {
      "name": "Automata Lab 02 Part_2.ipynb",
      "provenance": [],
      "collapsed_sections": [],
      "authorship_tag": "ABX9TyO/D1NqshDYISOL9y/ebi9+",
      "include_colab_link": true
    },
    "kernelspec": {
      "name": "python3",
      "display_name": "Python 3"
    }
  },
  "cells": [
    {
      "cell_type": "markdown",
      "metadata": {
        "id": "view-in-github",
        "colab_type": "text"
      },
      "source": [
        "<a href=\"https://colab.research.google.com/github/aij3113/Finite_Automata_Lab/blob/main/Automata_Lab_02_Part_2.ipynb\" target=\"_parent\"><img src=\"https://colab.research.google.com/assets/colab-badge.svg\" alt=\"Open In Colab\"/></a>"
      ]
    },
    {
      "cell_type": "code",
      "metadata": {
        "colab": {
          "base_uri": "https://localhost:8080/"
        },
        "id": "aoxy-Ch-btMD",
        "outputId": "156203e9-35d7-4fbd-8720-4bcb87a52bdd"
      },
      "source": [
        "# Library: pyformlang is necessary for implimenting \n",
        "# DFA, NFA, e-NFA\n",
        "# we need to install pyformlang library.\n",
        "\n",
        "! pip install pyformlang\n",
        "\n"
      ],
      "execution_count": null,
      "outputs": [
        {
          "output_type": "stream",
          "text": [
            "Collecting pyformlang\n",
            "\u001b[?25l  Downloading https://files.pythonhosted.org/packages/b2/15/3a49d67b9efbd26aa0b06a8a9c7fed859f3f36b19a59aa075615b23c3703/pyformlang-0.1.23-py3-none-any.whl (109kB)\n",
            "\r\u001b[K     |███                             | 10kB 17.2MB/s eta 0:00:01\r\u001b[K     |██████                          | 20kB 5.1MB/s eta 0:00:01\r\u001b[K     |█████████                       | 30kB 7.1MB/s eta 0:00:01\r\u001b[K     |████████████                    | 40kB 6.9MB/s eta 0:00:01\r\u001b[K     |███████████████                 | 51kB 4.0MB/s eta 0:00:01\r\u001b[K     |██████████████████              | 61kB 4.5MB/s eta 0:00:01\r\u001b[K     |█████████████████████           | 71kB 3.9MB/s eta 0:00:01\r\u001b[K     |████████████████████████        | 81kB 4.3MB/s eta 0:00:01\r\u001b[K     |███████████████████████████     | 92kB 4.6MB/s eta 0:00:01\r\u001b[K     |██████████████████████████████  | 102kB 4.8MB/s eta 0:00:01\r\u001b[K     |████████████████████████████████| 112kB 4.8MB/s \n",
            "\u001b[?25hRequirement already satisfied: networkx in /usr/local/lib/python3.6/dist-packages (from pyformlang) (2.5)\n",
            "Requirement already satisfied: numpy in /usr/local/lib/python3.6/dist-packages (from pyformlang) (1.19.5)\n",
            "Requirement already satisfied: pydot in /usr/local/lib/python3.6/dist-packages (from pyformlang) (1.3.0)\n",
            "Requirement already satisfied: decorator>=4.3.0 in /usr/local/lib/python3.6/dist-packages (from networkx->pyformlang) (4.4.2)\n",
            "Requirement already satisfied: pyparsing>=2.1.4 in /usr/local/lib/python3.6/dist-packages (from pydot->pyformlang) (2.4.7)\n",
            "Installing collected packages: pyformlang\n",
            "Successfully installed pyformlang-0.1.23\n"
          ],
          "name": "stdout"
        }
      ]
    },
    {
      "cell_type": "code",
      "metadata": {
        "colab": {
          "base_uri": "https://localhost:8080/"
        },
        "id": "bQvg-Xzoc-b5",
        "outputId": "439bda50-dfa9-46e0-da8b-09c538b6f692"
      },
      "source": [
        "# DFA implementation.\n",
        "\n",
        "# import necessary libraries.\n",
        "from pyformlang.finite_automaton import DeterministicFiniteAutomaton\n",
        "\n",
        "from pyformlang.finite_automaton import State\n",
        "from pyformlang.finite_automaton import Symbol\n",
        "\n",
        "# Declare DFA\n",
        "dfa = DeterministicFiniteAutomaton()  # Initializing\n",
        "\n",
        "# Declaration of States.\n",
        "state0 = State(0)\n",
        "state1 = State(1)\n",
        "state2 = State(2)\n",
        "state3 = State(3)\n",
        "\n",
        "# Declaration of Symbols.\n",
        "sym_a = Symbol('a')\n",
        "sym_b = Symbol('b')\n",
        "\n",
        "# Adding Starting State.\n",
        "dfa.add_start_state(state0)\n",
        "\n",
        "# Adding Final/Accepting State.\n",
        "dfa.add_final_state(state3)\n",
        "\n",
        "# Adding the Transitions.\n",
        "dfa.add_transition(state0, sym_a, state1)\n",
        "dfa.add_transition(state0, sym_b, state0)\n",
        "dfa.add_transition(state1, sym_a, state2)\n",
        "dfa.add_transition(state1, sym_b, state0)\n",
        "dfa.add_transition(state2, sym_a, state0)\n",
        "dfa.add_transition(state2, sym_b, state3)\n",
        "dfa.add_transition(state3, sym_a, state3)\n",
        "dfa.add_transition(state3, sym_b, state0)\n",
        "\n",
        "\n",
        "# Check if a string/word is accepted/rejected.\n",
        "\n",
        "dfa_result1 = dfa.accepts( [sym_a, sym_a, sym_b] )\n",
        "dfa_result2 = dfa.accepts( ['a','b','a','a','b'] )\n",
        "\n",
        "print(dfa_result1, dfa_result2)\n",
        "\n",
        "dfa_result3 = dfa.accepts( ['a','a','a','a','b'] )\n",
        "\n",
        "print(dfa_result3)\n",
        "\n",
        "import numpy as np\n",
        "\n",
        "data = np.array( ['aab','abab','abaab','aaaab','baab'] )\n",
        "\n",
        "for i in data:\n",
        "    lst = []\n",
        "    for j in i:\n",
        "        lst.append(j)\n",
        "\n",
        "    if dfa.accepts(lst):\n",
        "        print(lst,' is accepted')\n",
        "    else:\n",
        "        print(lst,' is rejected')\n"
      ],
      "execution_count": null,
      "outputs": [
        {
          "output_type": "stream",
          "text": [
            "True True\n",
            "False\n",
            "['a', 'a', 'b']  is accepted\n",
            "['a', 'b', 'a', 'b']  is rejected\n",
            "['a', 'b', 'a', 'a', 'b']  is accepted\n",
            "['a', 'a', 'a', 'a', 'b']  is rejected\n",
            "['b', 'a', 'a', 'b']  is accepted\n"
          ],
          "name": "stdout"
        }
      ]
    }
  ]
}