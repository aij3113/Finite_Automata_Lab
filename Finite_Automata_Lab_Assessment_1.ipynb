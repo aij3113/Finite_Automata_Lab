{
  "nbformat": 4,
  "nbformat_minor": 0,
  "metadata": {
    "colab": {
      "name": "Finite_Automata_Lab_Assessment_1.ipynb",
      "provenance": [],
      "collapsed_sections": [],
      "authorship_tag": "ABX9TyPk10qbqZdo7CreI0JEeJ7Q",
      "include_colab_link": true
    },
    "kernelspec": {
      "name": "python3",
      "display_name": "Python 3"
    },
    "language_info": {
      "name": "python"
    }
  },
  "cells": [
    {
      "cell_type": "markdown",
      "metadata": {
        "id": "view-in-github",
        "colab_type": "text"
      },
      "source": [
        "<a href=\"https://colab.research.google.com/github/aij3113/Finite_Automata_Lab/blob/main/Finite_Automata_Lab_Assessment_1.ipynb\" target=\"_parent\"><img src=\"https://colab.research.google.com/assets/colab-badge.svg\" alt=\"Open In Colab\"/></a>"
      ]
    },
    {
      "cell_type": "code",
      "metadata": {
        "colab": {
          "base_uri": "https://localhost:8080/"
        },
        "id": "qurNdzE-a1ek",
        "outputId": "d70d277c-1a23-4d03-dee1-94e437aa91fd"
      },
      "source": [
        "! pip install pyformlang"
      ],
      "execution_count": null,
      "outputs": [
        {
          "output_type": "stream",
          "text": [
            "Collecting pyformlang\n",
            "\u001b[?25l  Downloading https://files.pythonhosted.org/packages/b2/15/3a49d67b9efbd26aa0b06a8a9c7fed859f3f36b19a59aa075615b23c3703/pyformlang-0.1.23-py3-none-any.whl (109kB)\n",
            "\r\u001b[K     |███                             | 10kB 11.6MB/s eta 0:00:01\r\u001b[K     |██████                          | 20kB 17.2MB/s eta 0:00:01\r\u001b[K     |█████████                       | 30kB 10.3MB/s eta 0:00:01\r\u001b[K     |████████████                    | 40kB 7.3MB/s eta 0:00:01\r\u001b[K     |███████████████                 | 51kB 4.2MB/s eta 0:00:01\r\u001b[K     |██████████████████              | 61kB 4.7MB/s eta 0:00:01\r\u001b[K     |█████████████████████           | 71kB 5.1MB/s eta 0:00:01\r\u001b[K     |████████████████████████        | 81kB 5.2MB/s eta 0:00:01\r\u001b[K     |███████████████████████████     | 92kB 5.5MB/s eta 0:00:01\r\u001b[K     |██████████████████████████████  | 102kB 4.3MB/s eta 0:00:01\r\u001b[K     |████████████████████████████████| 112kB 4.3MB/s \n",
            "\u001b[?25hRequirement already satisfied: numpy in /usr/local/lib/python3.7/dist-packages (from pyformlang) (1.19.5)\n",
            "Requirement already satisfied: pydot in /usr/local/lib/python3.7/dist-packages (from pyformlang) (1.3.0)\n",
            "Requirement already satisfied: networkx in /usr/local/lib/python3.7/dist-packages (from pyformlang) (2.5)\n",
            "Requirement already satisfied: pyparsing>=2.1.4 in /usr/local/lib/python3.7/dist-packages (from pydot->pyformlang) (2.4.7)\n",
            "Requirement already satisfied: decorator>=4.3.0 in /usr/local/lib/python3.7/dist-packages (from networkx->pyformlang) (4.4.2)\n",
            "Installing collected packages: pyformlang\n",
            "Successfully installed pyformlang-0.1.23\n"
          ],
          "name": "stdout"
        }
      ]
    },
    {
      "cell_type": "markdown",
      "metadata": {
        "id": "N_DQwJ01Jr7m"
      },
      "source": [
        "***Implimentation of Epsilon NFA***"
      ]
    },
    {
      "cell_type": "code",
      "metadata": {
        "colab": {
          "base_uri": "https://localhost:8080/"
        },
        "id": "TMQylTNeK0nf",
        "outputId": "6bb3ef71-8a37-4c9c-d154-4a100f35f454"
      },
      "source": [
        "from pyformlang.finite_automaton import EpsilonNFA, State ,Symbol, Epsilon\n",
        "\n",
        "# Declare a EpsilonNFA object\n",
        "\n",
        "enfa = EpsilonNFA()\n",
        "\n",
        "# Declare States\n",
        "stA = State('A')\n",
        "stB = State('B')\n",
        "stC = State('C')\n",
        "stD = State('D')\n",
        "stE = State('E')\n",
        "stF = State('F')\n",
        "\n",
        "# Declare Symbols\n",
        "epsilon = Epsilon()\n",
        "sym_d = [Symbol(str(x)) for x in range(10)]\n",
        "sym_p = Symbol('+')\n",
        "sym_m = Symbol('-')\n",
        "sym_dot = Symbol('.')\n",
        "\n",
        "# Add Start State\n",
        "enfa.add_start_state(stA)\n",
        "\n",
        "# Add Final State\n",
        "enfa.add_final_state(stF)\n",
        "\n",
        "# Add All Transitions\n",
        "enfa.add_transition(stA, epsilon, stB)\n",
        "enfa.add_transition(stA, sym_p, stB)\n",
        "enfa.add_transition(stA, sym_m, stB)\n",
        "\n",
        "for sym in sym_d:   # For 0 to 9\n",
        "    enfa.add_transition(stB, sym, stB)\n",
        "    enfa.add_transition(stB, sym, stE)\n",
        "    enfa.add_transition(stC, sym, stD)\n",
        "    enfa.add_transition(stD, sym, stD)\n",
        "\n",
        "\n",
        "enfa.add_transition(stB, sym_dot, stC)\n",
        "enfa.add_transition(stE, sym_dot, stD)\n",
        "\n",
        "enfa.add_transition(stD, epsilon, stF)\n",
        "\n",
        "\n",
        "while (1):\n",
        "    s = input('Enter String: ')\n",
        "    if s=='###':\n",
        "        print('Exited...')\n",
        "        break\n",
        "    else:\n",
        "        if enfa.accepts(s):\n",
        "            print(s,' is Accpeted.')\n",
        "        else:\n",
        "            print(s,' is Not Accpeted.')\n",
        "\n",
        "\n",
        "\n",
        "\n",
        "\n",
        "\n",
        "\n"
      ],
      "execution_count": null,
      "outputs": [
        {
          "output_type": "stream",
          "text": [
            "Enter String: ###\n",
            "Exited...\n"
          ],
          "name": "stdout"
        }
      ]
    },
    {
      "cell_type": "markdown",
      "metadata": {
        "id": "fFuJGsuPJXc7"
      },
      "source": [
        "***Convertion of NFA to DFA***"
      ]
    },
    {
      "cell_type": "code",
      "metadata": {
        "colab": {
          "base_uri": "https://localhost:8080/"
        },
        "id": "KxrpPGhAJfhT",
        "outputId": "a30414e4-345b-43b5-b22a-c627ee030e03"
      },
      "source": [
        "from pyformlang.finite_automaton import DeterministicFiniteAutomaton, NondeterministicFiniteAutomaton, Symbol, State\n",
        "\n",
        "# Declare NFA Object\n",
        "nfa = NondeterministicFiniteAutomaton()\n",
        "\n",
        "# Declare States\n",
        "st_A = State('A')\n",
        "st_B = State('B')\n",
        "st_C = State('C')\n",
        "st_D = State('D')\n",
        "st_E = State('E')\n",
        "\n",
        "# Declare Symbols\n",
        "sym0 = Symbol('0')\n",
        "sym1 = Symbol('1')\n",
        "\n",
        "# Add Start State\n",
        "nfa.add_start_state(st_A)\n",
        "\n",
        "# Add Final State\n",
        "nfa.add_final_state(st_C)\n",
        "nfa.add_final_state(st_D)\n",
        "\n",
        "# Add Transition \n",
        "nfa.add_transition(st_A,sym0,st_A)\n",
        "nfa.add_transition(st_A,sym1,st_A)\n",
        "nfa.add_transition(st_A,sym1,st_B)\n",
        "\n",
        "nfa.add_transition(st_B,sym0,st_C)\n",
        "nfa.add_transition(st_B,sym1,st_C)\n",
        "nfa.add_transition(st_B,sym0,st_E)\n",
        "\n",
        "nfa.add_transition(st_C,sym1,st_D)\n",
        "\n",
        "nfa.add_transition(st_E,sym1,st_D)\n",
        "\n",
        "# Create DFA from NFA\n",
        "dfa = nfa.to_deterministic()\n",
        "\n",
        "while (1):\n",
        "    s = input('Enter String: ')\n",
        "    if s=='###':\n",
        "        print('Exited...')\n",
        "        break\n",
        "    else:\n",
        "        if dfa.accepts(s):\n",
        "            print(s,' is Accpeted.')\n",
        "        else:\n",
        "            print(s,' is Not Accpeted.')\n",
        "\n",
        "\n"
      ],
      "execution_count": null,
      "outputs": [
        {
          "output_type": "stream",
          "text": [
            "Enter String: 01\n",
            "01  is Not Accpeted.\n",
            "Enter String: 010\n",
            "010  is Accpeted.\n",
            "Enter String: ###\n",
            "Exited...\n"
          ],
          "name": "stdout"
        }
      ]
    }
  ]
}